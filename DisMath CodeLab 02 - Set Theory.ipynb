{
 "cells": [
  {
   "cell_type": "markdown",
   "metadata": {},
   "source": [
    "## Activities"
   ]
  },
  {
   "cell_type": "markdown",
   "metadata": {},
   "source": [
    "# Lists"
   ]
  },
  {
   "cell_type": "markdown",
   "metadata": {},
   "source": [
    "$$iemsbrands=\\begin{bmatrix} Sennhiser, TinAudio, Kz, Vido, TuneOut\\end{bmatrix} \n",
    "$$"
   ]
  },
  {
   "cell_type": "code",
   "execution_count": 79,
   "metadata": {},
   "outputs": [],
   "source": [
    "### Declaration\n",
    "iems_brands = [\"Sennhiser\", \"TinAudio\", \"Kz\", \"Vido\", \"TuneOut\"] "
   ]
  },
  {
   "cell_type": "code",
   "execution_count": 80,
   "metadata": {},
   "outputs": [
    {
     "data": {
      "text/plain": [
       "'Sennhiser'"
      ]
     },
     "execution_count": 80,
     "metadata": {},
     "output_type": "execute_result"
    }
   ],
   "source": [
    "### Single Access\n",
    "iems_brands[0]"
   ]
  },
  {
   "cell_type": "code",
   "execution_count": 81,
   "metadata": {},
   "outputs": [
    {
     "data": {
      "text/plain": [
       "['TinAudio']"
      ]
     },
     "execution_count": 81,
     "metadata": {},
     "output_type": "execute_result"
    }
   ],
   "source": [
    "### Multiple Access\n",
    "iems_brands[1:2] # From index 1 to 2"
   ]
  },
  {
   "cell_type": "code",
   "execution_count": 82,
   "metadata": {},
   "outputs": [
    {
     "data": {
      "text/plain": [
       "['Sennhiser', 'Kz']"
      ]
     },
     "execution_count": 82,
     "metadata": {},
     "output_type": "execute_result"
    }
   ],
   "source": [
    "### Multiple Access\n",
    "iems_brands[0:4:2] # From index 0 to 4 with a step of 2 "
   ]
  },
  {
   "cell_type": "code",
   "execution_count": 83,
   "metadata": {},
   "outputs": [
    {
     "name": "stdout",
     "output_type": "stream",
     "text": [
      "1 Sennhiser\n",
      "2 TinAudio\n",
      "3 Kz\n",
      "4 Vido\n",
      "5 TuneOut\n"
     ]
    }
   ],
   "source": [
    "### Multiple Access via Loops\n",
    "for iems_brand in iems_brands: \n",
    "    print(iems_brands.index(iems_brand)+1 ,iems_brand)"
   ]
  },
  {
   "cell_type": "code",
   "execution_count": 85,
   "metadata": {},
   "outputs": [
    {
     "name": "stdout",
     "output_type": "stream",
     "text": [
      "Sennhiser\n",
      "Vido\n"
     ]
    }
   ],
   "source": [
    "### Multiple Access via Loops\n",
    "\n",
    "for i in range(len(iems_brands)):\n",
    "    if(i%3 == 0): # Every thrid index\n",
    "        print(iems_brands[i])"
   ]
  },
  {
   "cell_type": "code",
   "execution_count": 86,
   "metadata": {},
   "outputs": [
    {
     "name": "stdout",
     "output_type": "stream",
     "text": [
      "['Shure', 'InEar', 'Kz', 'Vido', 'TuneOut']\n"
     ]
    }
   ],
   "source": [
    "### Modifying Elements\n",
    "iems_brands[0] = \"Shure\"\n",
    "iems_brands[1] = \"InEar\"\n",
    "print(iems_brands)"
   ]
  },
  {
   "cell_type": "code",
   "execution_count": 89,
   "metadata": {},
   "outputs": [
    {
     "name": "stdout",
     "output_type": "stream",
     "text": [
      "['Shure', 'InEar', 'Fender', 'Fender', 'Fender', 'Kz', 'Vido', 'TuneOut']\n"
     ]
    }
   ],
   "source": [
    "### Adding Elements\n",
    "iems_brands.insert(2, \"Fender\") # Adding elements in the chosen index\n",
    "print(iems_brands)"
   ]
  },
  {
   "cell_type": "code",
   "execution_count": 92,
   "metadata": {},
   "outputs": [
    {
     "name": "stdout",
     "output_type": "stream",
     "text": [
      "['Shure', 'InEar', 'Fender', 'Fender', 'Fender', 'Kz', 'Vido', 'TuneOut', 'Audio Technica', 'Audio Technica']\n"
     ]
    }
   ],
   "source": [
    "### Adding Elements\n",
    "iems_brands.append(\"Audio Technica\") # Adding elements in the end of the list\n",
    "print(iems_brands)"
   ]
  },
  {
   "cell_type": "code",
   "execution_count": 95,
   "metadata": {},
   "outputs": [
    {
     "data": {
      "text/plain": [
       "['InEar',\n",
       " 'Fender',\n",
       " 'Fender',\n",
       " 'Fender',\n",
       " 'Kz',\n",
       " 'Vido',\n",
       " 'TuneOut',\n",
       " 'Audio Technica']"
      ]
     },
     "execution_count": 95,
     "metadata": {},
     "output_type": "execute_result"
    }
   ],
   "source": [
    "### Removing Elements\n",
    "iems_brands.pop() # Remove the element in the end of the list\n",
    "iems_brands"
   ]
  },
  {
   "cell_type": "code",
   "execution_count": 96,
   "metadata": {},
   "outputs": [
    {
     "ename": "ValueError",
     "evalue": "list.remove(x): x not in list",
     "output_type": "error",
     "traceback": [
      "\u001b[1;31m---------------------------------------------------------------------------\u001b[0m",
      "\u001b[1;31mValueError\u001b[0m                                Traceback (most recent call last)",
      "\u001b[1;32m<ipython-input-96-738f6a77d461>\u001b[0m in \u001b[0;36m<module>\u001b[1;34m\u001b[0m\n\u001b[0;32m      1\u001b[0m \u001b[1;31m### Removing Elements\u001b[0m\u001b[1;33m\u001b[0m\u001b[1;33m\u001b[0m\u001b[1;33m\u001b[0m\u001b[0m\n\u001b[1;32m----> 2\u001b[1;33m \u001b[0miems_brands\u001b[0m\u001b[1;33m.\u001b[0m\u001b[0mremove\u001b[0m\u001b[1;33m(\u001b[0m\u001b[1;34m\"Shure\"\u001b[0m\u001b[1;33m)\u001b[0m \u001b[1;31m# Remove a specific element\u001b[0m\u001b[1;33m\u001b[0m\u001b[1;33m\u001b[0m\u001b[0m\n\u001b[0m\u001b[0;32m      3\u001b[0m \u001b[0miems_brands\u001b[0m\u001b[1;33m\u001b[0m\u001b[1;33m\u001b[0m\u001b[0m\n",
      "\u001b[1;31mValueError\u001b[0m: list.remove(x): x not in list"
     ]
    }
   ],
   "source": [
    "### Removing Elements\n",
    "iems_brands.remove(\"Shure\") # Remove a specific element\n",
    "iems_brands"
   ]
  },
  {
   "cell_type": "code",
   "execution_count": 98,
   "metadata": {},
   "outputs": [
    {
     "data": {
      "text/plain": [
       "['InEar', 'Fender', 'Fender', 'Fender', 'Kz', 'Vido']"
      ]
     },
     "execution_count": 98,
     "metadata": {},
     "output_type": "execute_result"
    }
   ],
   "source": [
    "### Removing Elements\n",
    "del iems_brands[-1] # Remove a specific index\n",
    "iems_brands"
   ]
  },
  {
   "cell_type": "code",
   "execution_count": 99,
   "metadata": {},
   "outputs": [
    {
     "data": {
      "text/plain": [
       "[]"
      ]
     },
     "execution_count": 99,
     "metadata": {},
     "output_type": "execute_result"
    }
   ],
   "source": [
    "### Removing Elements\n",
    "iems_brands.clear() # Deleting entire set\n",
    "iems_brands"
   ]
  },
  {
   "cell_type": "markdown",
   "metadata": {},
   "source": [
    "# Tuples"
   ]
  },
  {
   "cell_type": "markdown",
   "metadata": {},
   "source": [
    "$$sennhiser = \\begin{bmatrix} CS300S, V shape, Expensive \\\\\\end{bmatrix} \\\\\n",
    "tinaudio= \\begin{bmatrix} T2, Balance, Expensive  \\\\\\end{bmatrix} $$"
   ]
  },
  {
   "cell_type": "code",
   "execution_count": 101,
   "metadata": {},
   "outputs": [],
   "source": [
    "### Declaration\n",
    "sennhiser = (\"CS300S\", \"V shape\", \"Expensive\")  # Identification of model, sound signature and, price \n",
    "tin_audio = (\"T2\", \"Balance\", \"Expensive\")\n"
   ]
  },
  {
   "cell_type": "code",
   "execution_count": 103,
   "metadata": {},
   "outputs": [
    {
     "data": {
      "text/plain": [
       "'CS300S'"
      ]
     },
     "execution_count": 103,
     "metadata": {},
     "output_type": "execute_result"
    }
   ],
   "source": [
    "### Single Access\n",
    "sennhiser_model = sennhiser[0] # Assigning a variable to a specific model\n",
    "sennhiser_model"
   ]
  },
  {
   "cell_type": "code",
   "execution_count": 108,
   "metadata": {},
   "outputs": [
    {
     "data": {
      "text/plain": [
       "('CS300S', 'Expensive')"
      ]
     },
     "execution_count": 108,
     "metadata": {},
     "output_type": "execute_result"
    }
   ],
   "source": [
    "### Multiple Access\n",
    "sennhiser[0:3:2] # From index 0 to 3 with a step of 2 "
   ]
  },
  {
   "cell_type": "code",
   "execution_count": 109,
   "metadata": {},
   "outputs": [
    {
     "name": "stdout",
     "output_type": "stream",
     "text": [
      "T2\n",
      "Balance\n",
      "Expensive\n"
     ]
    }
   ],
   "source": [
    "### Multiple Access via Loops\n",
    "for t2 in tin_audio:\n",
    "    print(t2)"
   ]
  },
  {
   "cell_type": "code",
   "execution_count": 110,
   "metadata": {},
   "outputs": [
    {
     "name": "stdout",
     "output_type": "stream",
     "text": [
      "Defference between Lazada & Shopee: ('Expensive', 'Inexpensive')\n",
      "Defference between Lazada & Shopee: ('Waranty', 'Uninsured')\n",
      "Defference between Lazada & Shopee: ('Buyers side', 'Seller side')\n"
     ]
    }
   ],
   "source": [
    "lazada = (\"Expensive\", \"Waranty\", \"Buyers side\")\n",
    "shopee = (\"Inexpensive\", \"Uninsured\", \"Seller side\")\n",
    "### Multiple Access via Parallel Iteration\n",
    "for difference in zip(lazada, shopee):\n",
    "    print(f'Defference between Lazada & Shopee: {difference}')"
   ]
  },
  {
   "cell_type": "code",
   "execution_count": 112,
   "metadata": {},
   "outputs": [
    {
     "name": "stdout",
     "output_type": "stream",
     "text": [
      "('Expensive', 'Inexpensive')\n",
      "('Waranty', 'Uninsured')\n",
      "('Buyers side', 'Seller side')\n"
     ]
    }
   ],
   "source": [
    "for online_shop in zip(lazada, shopee):\n",
    "    print(online_shop)"
   ]
  },
  {
   "cell_type": "code",
   "execution_count": 113,
   "metadata": {},
   "outputs": [
    {
     "ename": "TypeError",
     "evalue": "'tuple' object does not support item assignment",
     "output_type": "error",
     "traceback": [
      "\u001b[1;31m---------------------------------------------------------------------------\u001b[0m",
      "\u001b[1;31mTypeError\u001b[0m                                 Traceback (most recent call last)",
      "\u001b[1;32m<ipython-input-113-0de0e6038f41>\u001b[0m in \u001b[0;36m<module>\u001b[1;34m\u001b[0m\n\u001b[0;32m      1\u001b[0m \u001b[1;31m### Modifying Elements\u001b[0m\u001b[1;33m\u001b[0m\u001b[1;33m\u001b[0m\u001b[1;33m\u001b[0m\u001b[0m\n\u001b[1;32m----> 2\u001b[1;33m \u001b[0mshopee\u001b[0m\u001b[1;33m[\u001b[0m\u001b[1;36m0\u001b[0m\u001b[1;33m]\u001b[0m \u001b[1;33m=\u001b[0m \u001b[1;34m\"Expensive\"\u001b[0m\u001b[1;33m\u001b[0m\u001b[1;33m\u001b[0m\u001b[0m\n\u001b[0m",
      "\u001b[1;31mTypeError\u001b[0m: 'tuple' object does not support item assignment"
     ]
    }
   ],
   "source": [
    "### Modifying Elements\n",
    "shopee[0] = \"Expensive\" # Tuples are immutable\n"
   ]
  },
  {
   "cell_type": "code",
   "execution_count": 114,
   "metadata": {},
   "outputs": [
    {
     "ename": "TypeError",
     "evalue": "'tuple' object doesn't support item deletion",
     "output_type": "error",
     "traceback": [
      "\u001b[1;31m---------------------------------------------------------------------------\u001b[0m",
      "\u001b[1;31mTypeError\u001b[0m                                 Traceback (most recent call last)",
      "\u001b[1;32m<ipython-input-114-5747824cc73c>\u001b[0m in \u001b[0;36m<module>\u001b[1;34m\u001b[0m\n\u001b[0;32m      1\u001b[0m \u001b[1;31m### Removing Elements\u001b[0m\u001b[1;33m\u001b[0m\u001b[1;33m\u001b[0m\u001b[1;33m\u001b[0m\u001b[0m\n\u001b[0;32m      2\u001b[0m \u001b[1;33m\u001b[0m\u001b[0m\n\u001b[1;32m----> 3\u001b[1;33m \u001b[1;32mdel\u001b[0m \u001b[0mshopee\u001b[0m\u001b[1;33m[\u001b[0m\u001b[1;36m0\u001b[0m\u001b[1;33m]\u001b[0m \u001b[1;31m# Tuples are immutable\u001b[0m\u001b[1;33m\u001b[0m\u001b[1;33m\u001b[0m\u001b[0m\n\u001b[0m",
      "\u001b[1;31mTypeError\u001b[0m: 'tuple' object doesn't support item deletion"
     ]
    }
   ],
   "source": [
    "### Removing Elements\n",
    "\n",
    "del shopee[0] # Tuples are immutable\n"
   ]
  },
  {
   "cell_type": "code",
   "execution_count": 115,
   "metadata": {},
   "outputs": [
    {
     "data": {
      "text/plain": [
       "('Inexpensive',\n",
       " 'Uninsured',\n",
       " 'Seller side',\n",
       " 'Expensive',\n",
       " 'Waranty',\n",
       " 'Buyers side')"
      ]
     },
     "execution_count": 115,
     "metadata": {},
     "output_type": "execute_result"
    }
   ],
   "source": [
    "### Merging Tuples\n",
    "online_shopping_expectation = shopee + lazada\n",
    "online_shopping_expectation"
   ]
  },
  {
   "cell_type": "markdown",
   "metadata": {},
   "source": [
    "# Sets"
   ]
  },
  {
   "cell_type": "markdown",
   "metadata": {},
   "source": [
    "$$expensive =\\{\\begin{array}\\ T2, CS300S\\}\\end{array} \\\\\n",
    "cheap =\\{\\begin{array}\\ Vido, Zsn Pro, Una\\}\\end{array}$$"
   ]
  },
  {
   "cell_type": "code",
   "execution_count": 126,
   "metadata": {},
   "outputs": [],
   "source": [
    "### Declaration\n",
    "expensive = {\"T2\", \"CS300S\"}\n",
    "cheap = {\"Vido\", \"Zsn Pro\", \"Una\"}"
   ]
  },
  {
   "cell_type": "code",
   "execution_count": 127,
   "metadata": {},
   "outputs": [
    {
     "name": "stdout",
     "output_type": "stream",
     "text": [
      "{'Vido', 'Zsn Pro', 'Una'}\n"
     ]
    }
   ],
   "source": [
    "print(cheap)"
   ]
  },
  {
   "cell_type": "code",
   "execution_count": 128,
   "metadata": {},
   "outputs": [
    {
     "ename": "TypeError",
     "evalue": "'set' object is not subscriptable",
     "output_type": "error",
     "traceback": [
      "\u001b[1;31m---------------------------------------------------------------------------\u001b[0m",
      "\u001b[1;31mTypeError\u001b[0m                                 Traceback (most recent call last)",
      "\u001b[1;32m<ipython-input-128-eeb11aea7d91>\u001b[0m in \u001b[0;36m<module>\u001b[1;34m\u001b[0m\n\u001b[0;32m      1\u001b[0m \u001b[1;31m### Accessing Elements\u001b[0m\u001b[1;33m\u001b[0m\u001b[1;33m\u001b[0m\u001b[1;33m\u001b[0m\u001b[0m\n\u001b[1;32m----> 2\u001b[1;33m \u001b[0mcheap\u001b[0m\u001b[1;33m[\u001b[0m\u001b[1;36m0\u001b[0m\u001b[1;33m]\u001b[0m \u001b[1;31m# Set are unindexed\u001b[0m\u001b[1;33m\u001b[0m\u001b[1;33m\u001b[0m\u001b[0m\n\u001b[0m",
      "\u001b[1;31mTypeError\u001b[0m: 'set' object is not subscriptable"
     ]
    }
   ],
   "source": [
    "### Accessing Elements\n",
    "cheap[0] # Set are unindexed"
   ]
  },
  {
   "cell_type": "code",
   "execution_count": 129,
   "metadata": {},
   "outputs": [
    {
     "name": "stdout",
     "output_type": "stream",
     "text": [
      "Vido\n",
      "Zsn Pro\n",
      "Una\n"
     ]
    }
   ],
   "source": [
    "### Multiple Access via Loops\n",
    "for product in cheap:\n",
    "    print(product)"
   ]
  },
  {
   "cell_type": "code",
   "execution_count": 131,
   "metadata": {},
   "outputs": [
    {
     "name": "stdout",
     "output_type": "stream",
     "text": [
      "{'Vido', 'Zsn Pro', 'Una'}\n",
      "{'Zsn Pro', 'Una'}\n"
     ]
    }
   ],
   "source": [
    "### Removing an Element\n",
    "print(cheap)\n",
    "cheap.remove(\"Vido\") # Removing an specific element\n",
    "print(cheap)"
   ]
  },
  {
   "cell_type": "code",
   "execution_count": 132,
   "metadata": {},
   "outputs": [
    {
     "name": "stdout",
     "output_type": "stream",
     "text": [
      "True\n"
     ]
    }
   ],
   "source": [
    "### Membership\n",
    "print('Una' in cheap) # Confirming element in that set\n"
   ]
  },
  {
   "cell_type": "code",
   "execution_count": 135,
   "metadata": {},
   "outputs": [
    {
     "data": {
      "text/plain": [
       "True"
      ]
     },
     "execution_count": 135,
     "metadata": {},
     "output_type": "execute_result"
    }
   ],
   "source": [
    "### Subsets\n",
    "order = {\"Zsn Pro\"} \n",
    "order.issubset(cheap) # Confirming element is a subset"
   ]
  },
  {
   "cell_type": "code",
   "execution_count": 136,
   "metadata": {},
   "outputs": [
    {
     "name": "stdout",
     "output_type": "stream",
     "text": [
      "{'Zsn Pro', 'Una'}\n",
      "{'CS300S', 'T2'}\n"
     ]
    },
    {
     "data": {
      "text/plain": [
       "{'CS300S', 'T2', 'Una', 'Zsn Pro'}"
      ]
     },
     "execution_count": 136,
     "metadata": {},
     "output_type": "execute_result"
    }
   ],
   "source": [
    "### Union\n",
    "print(cheap)\n",
    "print(expensive)\n",
    "iem_models = cheap.union(expensive) # Combining two sets\n",
    "iem_models"
   ]
  },
  {
   "cell_type": "code",
   "execution_count": 137,
   "metadata": {},
   "outputs": [
    {
     "data": {
      "text/plain": [
       "set()"
      ]
     },
     "execution_count": 137,
     "metadata": {},
     "output_type": "execute_result"
    }
   ],
   "source": [
    "### Intersection\n",
    "cheap.intersection(expensive) # Finiding the same elements in a set"
   ]
  },
  {
   "cell_type": "code",
   "execution_count": 139,
   "metadata": {},
   "outputs": [
    {
     "data": {
      "text/plain": [
       "{'CS300S', 'T2'}"
      ]
     },
     "execution_count": 139,
     "metadata": {},
     "output_type": "execute_result"
    }
   ],
   "source": [
    "### Difference\n",
    "expensive.difference(cheap) # Finding elements that is in cheap but not in expensive set"
   ]
  },
  {
   "cell_type": "markdown",
   "metadata": {},
   "source": [
    "# Dictionaries"
   ]
  },
  {
   "cell_type": "markdown",
   "metadata": {},
   "source": [
    "$$iemprices =\\{\\begin{array}\\ T2:3000php, Una:600php, Vido:150php \\}\\end{array}$$"
   ]
  },
  {
   "cell_type": "code",
   "execution_count": 173,
   "metadata": {},
   "outputs": [],
   "source": [
    "### Declaration\n",
    "iem_prices = {\n",
    "    \"T2\": 3000,\n",
    "    \"Una\": 600,\n",
    "    \"Vido\":150\n",
    "}"
   ]
  },
  {
   "cell_type": "code",
   "execution_count": 174,
   "metadata": {},
   "outputs": [
    {
     "data": {
      "text/plain": [
       "150"
      ]
     },
     "execution_count": 174,
     "metadata": {},
     "output_type": "execute_result"
    }
   ],
   "source": [
    "## Accessing\n",
    "iem_prices[\"Vido\"]"
   ]
  },
  {
   "cell_type": "code",
   "execution_count": 175,
   "metadata": {},
   "outputs": [
    {
     "name": "stdout",
     "output_type": "stream",
     "text": [
      "T2\n",
      "Una\n",
      "Vido\n"
     ]
    }
   ],
   "source": [
    "## Accessing via Loops\n",
    "for product in iem_prices:\n",
    "    print(product)"
   ]
  },
  {
   "cell_type": "code",
   "execution_count": 179,
   "metadata": {},
   "outputs": [
    {
     "name": "stdout",
     "output_type": "stream",
     "text": [
      "3000\n",
      "600\n",
      "150\n"
     ]
    }
   ],
   "source": [
    "for product in iem_prices:\n",
    "    print(iem_prices[product])"
   ]
  },
  {
   "cell_type": "code",
   "execution_count": 180,
   "metadata": {},
   "outputs": [
    {
     "name": "stdout",
     "output_type": "stream",
     "text": [
      "3000\n",
      "600\n",
      "150\n"
     ]
    }
   ],
   "source": [
    "for price in iem_prices.values():\n",
    "    print(price)"
   ]
  },
  {
   "cell_type": "code",
   "execution_count": 181,
   "metadata": {},
   "outputs": [
    {
     "name": "stdout",
     "output_type": "stream",
     "text": [
      "T2 3000\n",
      "Una 600\n",
      "Vido 150\n"
     ]
    }
   ],
   "source": [
    "for product, price in iem_prices.items():\n",
    "    print(product, price)"
   ]
  },
  {
   "cell_type": "code",
   "execution_count": 182,
   "metadata": {},
   "outputs": [
    {
     "name": "stdout",
     "output_type": "stream",
     "text": [
      "600\n",
      "600\n"
     ]
    }
   ],
   "source": [
    "## Update / Modification\n",
    "print(iem_prices['Una'])\n",
    "ieam_prices['Una'] = 300 # Price drop of 300 petot\n",
    "print(iem_prices['Una'])"
   ]
  },
  {
   "cell_type": "code",
   "execution_count": 183,
   "metadata": {},
   "outputs": [
    {
     "name": "stdout",
     "output_type": "stream",
     "text": [
      "{'T2': 3000, 'Una': 600, 'Vido': 150}\n",
      "{'T2': 3000, 'Una': 600, 'Vido': 150}\n"
     ]
    }
   ],
   "source": [
    "## Adding Elements\n",
    "print(iem_prices)\n",
    "ieam_prices['Miniso'] = 110\n",
    "print(iem_prices)"
   ]
  },
  {
   "cell_type": "code",
   "execution_count": 184,
   "metadata": {},
   "outputs": [
    {
     "name": "stdout",
     "output_type": "stream",
     "text": [
      "{'T2': 3000, 'Una': 600, 'Vido': 150}\n",
      "600\n",
      "{'T2': 3000, 'Vido': 150}\n"
     ]
    }
   ],
   "source": [
    "## Removing Elements\n",
    "print(iem_prices)\n",
    "print(iem_prices.pop('Una')) # Removing element\n",
    "print(iem_prices)"
   ]
  },
  {
   "cell_type": "markdown",
   "metadata": {},
   "source": [
    "# Dataset Operations"
   ]
  },
  {
   "cell_type": "markdown",
   "metadata": {},
   "source": [
    "$$onlineshop=\\{\\begin{array}\\ Chifi, Branded, Daps, Amps, Wire\\}\\end{array}\\\\\n",
    "pysicalshop=\\{\\begin{array}\\ Branded, Daps, Amps, Headphones, Speaker\\}\\end{array}$$"
   ]
  },
  {
   "cell_type": "code",
   "execution_count": 156,
   "metadata": {},
   "outputs": [],
   "source": [
    "onlineshop = [\"Chifi\", \"Branded\", \"Daps\", \"Amps\", \"Wire\"]\n",
    "physicalshop = [\"Branded\", \"Daps\", \"Amps\", \"Headphones\", \"Speaker\"]"
   ]
  },
  {
   "cell_type": "code",
   "execution_count": 30,
   "metadata": {},
   "outputs": [
    {
     "data": {
      "text/plain": [
       "False"
      ]
     },
     "execution_count": 30,
     "metadata": {},
     "output_type": "execute_result"
    }
   ],
   "source": [
    "### Membership\n",
    "#print('cannele' in bakery_A)\n",
    "### Subsets\n",
    "order = {'coffee', 'tea', 'donuts'}\n",
    "order.issubset(bakery_A)"
   ]
  },
  {
   "cell_type": "code",
   "execution_count": 30,
   "metadata": {},
   "outputs": [
    {
     "data": {
      "text/plain": [
       "False"
      ]
     },
     "execution_count": 30,
     "metadata": {},
     "output_type": "execute_result"
    }
   ],
   "source": [
    "### Membership\n",
    "#print('cannele' in bakery_A)\n",
    "### Subsets\n",
    "order = {'coffee', 'tea', 'donuts'}\n",
    "order.issubset(bakery_A)"
   ]
  },
  {
   "cell_type": "code",
   "execution_count": 30,
   "metadata": {},
   "outputs": [
    {
     "data": {
      "text/plain": [
       "False"
      ]
     },
     "execution_count": 30,
     "metadata": {},
     "output_type": "execute_result"
    }
   ],
   "source": [
    "### Membership\n",
    "#print('cannele' in bakery_A)\n",
    "### Subsets\n",
    "order = {'coffee', 'tea', 'donuts'}\n",
    "order.issubset(bakery_A)"
   ]
  },
  {
   "cell_type": "code",
   "execution_count": 30,
   "metadata": {},
   "outputs": [
    {
     "data": {
      "text/plain": [
       "False"
      ]
     },
     "execution_count": 30,
     "metadata": {},
     "output_type": "execute_result"
    }
   ],
   "source": [
    "### Membership\n",
    "#print('cannele' in bakery_A)\n",
    "### Subsets\n",
    "order = {'coffee', 'tea', 'donuts'}\n",
    "order.issubset(bakery_A)"
   ]
  },
  {
   "cell_type": "code",
   "execution_count": 157,
   "metadata": {},
   "outputs": [],
   "source": [
    "online = set(onlineshop)\n",
    "physical = set(physicalshop)\n"
   ]
  },
  {
   "cell_type": "markdown",
   "metadata": {},
   "source": [
    "### Inner Join"
   ]
  },
  {
   "cell_type": "code",
   "execution_count": 158,
   "metadata": {},
   "outputs": [
    {
     "data": {
      "text/plain": [
       "{'Amps', 'Branded', 'Daps'}"
      ]
     },
     "execution_count": 158,
     "metadata": {},
     "output_type": "execute_result"
    }
   ],
   "source": [
    "## Find the common things between the sets\n",
    "## Intersection\n",
    "common = online.intersection(physical)\n",
    "common ## inner join"
   ]
  },
  {
   "cell_type": "markdown",
   "metadata": {},
   "source": [
    "### Left Join"
   ]
  },
  {
   "cell_type": "code",
   "execution_count": 160,
   "metadata": {},
   "outputs": [
    {
     "data": {
      "text/plain": [
       "{'Amps', 'Branded', 'Chifi', 'Daps', 'Wire'}"
      ]
     },
     "execution_count": 160,
     "metadata": {},
     "output_type": "execute_result"
    }
   ],
   "source": [
    "cpe_ljoin = common.union(online)\n",
    "cpe_ljoin"
   ]
  },
  {
   "cell_type": "markdown",
   "metadata": {},
   "source": [
    "### Right Join"
   ]
  },
  {
   "cell_type": "code",
   "execution_count": 161,
   "metadata": {},
   "outputs": [
    {
     "data": {
      "text/plain": [
       "{'Amps', 'Branded', 'Daps', 'Headphones', 'Speaker'}"
      ]
     },
     "execution_count": 161,
     "metadata": {},
     "output_type": "execute_result"
    }
   ],
   "source": [
    "cs_rjoin = common.union(physical)\n",
    "cs_rjoin"
   ]
  },
  {
   "cell_type": "markdown",
   "metadata": {},
   "source": [
    "### Left Exclusive Join"
   ]
  },
  {
   "cell_type": "code",
   "execution_count": 162,
   "metadata": {},
   "outputs": [
    {
     "data": {
      "text/plain": [
       "{'Headphones', 'Speaker'}"
      ]
     },
     "execution_count": 162,
     "metadata": {},
     "output_type": "execute_result"
    }
   ],
   "source": [
    "cpe_exljoin = physical.difference(online)\n",
    "cpe_exljoin"
   ]
  },
  {
   "cell_type": "markdown",
   "metadata": {},
   "source": [
    "### Right Exclusive Join"
   ]
  },
  {
   "cell_type": "code",
   "execution_count": 163,
   "metadata": {},
   "outputs": [
    {
     "data": {
      "text/plain": [
       "{'Chifi', 'Wire'}"
      ]
     },
     "execution_count": 163,
     "metadata": {},
     "output_type": "execute_result"
    }
   ],
   "source": [
    "cs_exrjoin = online.difference(physical)\n",
    "cs_exrjoin"
   ]
  },
  {
   "cell_type": "markdown",
   "metadata": {},
   "source": [
    "### Full Outer Join"
   ]
  },
  {
   "cell_type": "code",
   "execution_count": 164,
   "metadata": {},
   "outputs": [
    {
     "data": {
      "text/plain": [
       "{'Amps', 'Branded', 'Chifi', 'Daps', 'Headphones', 'Speaker', 'Wire'}"
      ]
     },
     "execution_count": 164,
     "metadata": {},
     "output_type": "execute_result"
    }
   ],
   "source": [
    "## Union\n",
    "full_outer = physical.union(online)\n",
    "full_outer"
   ]
  },
  {
   "cell_type": "markdown",
   "metadata": {},
   "source": [
    "### Full Outer Exclusive Join"
   ]
  },
  {
   "cell_type": "code",
   "execution_count": 167,
   "metadata": {},
   "outputs": [
    {
     "data": {
      "text/plain": [
       "{'Chifi', 'Headphones', 'Speaker', 'Wire'}"
      ]
     },
     "execution_count": 167,
     "metadata": {},
     "output_type": "execute_result"
    }
   ],
   "source": [
    "## XOR\n",
    "full_xouter = (physical.difference(online)).union(online.difference(physical))\n",
    "full_xouter"
   ]
  },
  {
   "cell_type": "markdown",
   "metadata": {},
   "source": [
    "## Scratch Area"
   ]
  },
  {
   "cell_type": "markdown",
   "metadata": {},
   "source": [
    "You can use the area below to try your own code."
   ]
  },
  {
   "cell_type": "code",
   "execution_count": null,
   "metadata": {},
   "outputs": [],
   "source": []
  }
 ],
 "metadata": {
  "kernelspec": {
   "display_name": "Python 3",
   "language": "python",
   "name": "python3"
  },
  "language_info": {
   "codemirror_mode": {
    "name": "ipython",
    "version": 3
   },
   "file_extension": ".py",
   "mimetype": "text/x-python",
   "name": "python",
   "nbconvert_exporter": "python",
   "pygments_lexer": "ipython3",
   "version": "3.8.3"
  }
 },
 "nbformat": 4,
 "nbformat_minor": 4
}
